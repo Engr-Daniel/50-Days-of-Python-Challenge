{
 "cells": [
  {
   "cell_type": "markdown",
   "id": "e1d71e0e",
   "metadata": {},
   "source": [
    "### Day 11: Are They Equal? (25/01/2023)\n",
    "\n",
    "Write a function called equal_strings. The function takes two\n",
    "strings as arguments and compares them. If the strings are equal\n",
    "(if they have the same characters and have equal length), it\n",
    "should return True, if they are not, it should return False. \n",
    "\n",
    "For example, ‘love’ and ‘evol’ should return True.\n"
   ]
  },
  {
   "cell_type": "code",
   "execution_count": 1,
   "id": "431bec15",
   "metadata": {},
   "outputs": [
    {
     "data": {
      "text/plain": [
       "True"
      ]
     },
     "execution_count": 1,
     "metadata": {},
     "output_type": "execute_result"
    }
   ],
   "source": [
    "def equal_strings(str1, str2):\n",
    "    if sorted(str1) == sorted(str2):\n",
    "        return True\n",
    "    else:\n",
    "        return False\n",
    "    \n",
    "equal_strings('love', 'evol')    "
   ]
  },
  {
   "cell_type": "code",
   "execution_count": 2,
   "id": "b8141ccf",
   "metadata": {},
   "outputs": [
    {
     "data": {
      "text/plain": [
       "True"
      ]
     },
     "execution_count": 2,
     "metadata": {},
     "output_type": "execute_result"
    }
   ],
   "source": [
    "def equal_strings(str1, str2):\n",
    "    if len(str1) - len(str2) == 0 and sorted(str1) == sorted(str2):\n",
    "        return True\n",
    "    else:\n",
    "        return False\n",
    "    \n",
    "equal_strings('love', 'evol')       "
   ]
  },
  {
   "cell_type": "code",
   "execution_count": 3,
   "id": "88a7fafe",
   "metadata": {},
   "outputs": [
    {
     "data": {
      "text/plain": [
       "True"
      ]
     },
     "execution_count": 3,
     "metadata": {},
     "output_type": "execute_result"
    }
   ],
   "source": [
    "def equal_strings(str1, str2):\n",
    "    if len(str1) == len(str2) and set(str1) == set(str2):\n",
    "        return True\n",
    "    else:\n",
    "        return False\n",
    "    \n",
    "equal_strings('love', 'evol') "
   ]
  },
  {
   "cell_type": "code",
   "execution_count": 4,
   "id": "58d24882",
   "metadata": {},
   "outputs": [
    {
     "data": {
      "text/plain": [
       "True"
      ]
     },
     "execution_count": 4,
     "metadata": {},
     "output_type": "execute_result"
    }
   ],
   "source": [
    "def equal_strings(str1, str2):\n",
    "    if len(str1) == len(str2) and sorted(str1) == sorted(str2):\n",
    "        return True\n",
    "    else:\n",
    "        return False\n",
    "    \n",
    "equal_strings('love', 'evol')"
   ]
  },
  {
   "cell_type": "markdown",
   "id": "f5f38448",
   "metadata": {},
   "source": [
    "###### Textbook Solution"
   ]
  },
  {
   "cell_type": "code",
   "execution_count": 5,
   "id": "dc8bdde0",
   "metadata": {},
   "outputs": [
    {
     "name": "stdout",
     "output_type": "stream",
     "text": [
      "True\n"
     ]
    }
   ],
   "source": [
    "def equal_strings(st1, st2):\n",
    "    str1 = sorted(st1)\n",
    "    str2 = sorted(st2)\n",
    "    if str1 == str2:\n",
    "        return True\n",
    "    else:\n",
    "        return False\n",
    "\n",
    "print(equal_strings('love', 'evol'))"
   ]
  },
  {
   "cell_type": "markdown",
   "id": "405ee668",
   "metadata": {},
   "source": [
    "**Extra Challenge: Swap Values**\n",
    "\n",
    "Write a function called swap_values. This function takes a list\n",
    "of numbers and swaps the first element with the last element.\n",
    "\n",
    "For example, if you pass [2, 4,67, 7] as a parameter, your\n",
    "function should return\n",
    "[7, 4, 67, 2]."
   ]
  },
  {
   "cell_type": "code",
   "execution_count": 6,
   "id": "b54542c5",
   "metadata": {},
   "outputs": [
    {
     "data": {
      "text/plain": [
       "[7, 4, 67, 2]"
      ]
     },
     "execution_count": 6,
     "metadata": {},
     "output_type": "execute_result"
    }
   ],
   "source": [
    "def swap_values(numList):\n",
    "    x, y = 0, -1\n",
    "    \n",
    "    #Swap index x=0 with index y=-1\n",
    "    numList[x], numList[y] = numList[y], numList[x]\n",
    "    return numList\n",
    "    \n",
    "swap_values([2, 4, 67, 7])"
   ]
  },
  {
   "cell_type": "code",
   "execution_count": 7,
   "id": "f3c43a87",
   "metadata": {},
   "outputs": [
    {
     "data": {
      "text/plain": [
       "[7, 4, 67, 2]"
      ]
     },
     "execution_count": 7,
     "metadata": {},
     "output_type": "execute_result"
    }
   ],
   "source": [
    "def swap_values(numList):\n",
    "    #x, y = 0, -1\n",
    "    #Swap index x=0 with index y=-1\n",
    "    \n",
    "    numList[0], numList[-1] = numList[-1], numList[0]\n",
    "    return numList\n",
    "    \n",
    "swap_values([2, 4, 67, 7])"
   ]
  },
  {
   "cell_type": "code",
   "execution_count": 8,
   "id": "8959e8e7",
   "metadata": {},
   "outputs": [
    {
     "data": {
      "text/plain": [
       "[7, 4, 67, 2]"
      ]
     },
     "execution_count": 8,
     "metadata": {},
     "output_type": "execute_result"
    }
   ],
   "source": [
    "def swap_values(numList):\n",
    "    #Remove both element from the list usin Pop()\n",
    "    first = numList.pop(0)\n",
    "    last = numList.pop(-1)\n",
    "    \n",
    "    #Insert back the elements back interchangeably\n",
    "    numList.insert(0, last)\n",
    "    numList.insert(len(numList), first)\n",
    "    \n",
    "    return numList\n",
    "\n",
    "swap_values([2, 4, 67, 7])"
   ]
  },
  {
   "cell_type": "markdown",
   "id": "c422b4d4",
   "metadata": {},
   "source": [
    "###### Textbook Solution"
   ]
  },
  {
   "cell_type": "code",
   "execution_count": 9,
   "id": "72abc524",
   "metadata": {},
   "outputs": [
    {
     "name": "stdout",
     "output_type": "stream",
     "text": [
      "[7, 4, 67, 2]\n"
     ]
    }
   ],
   "source": [
    "def swap_values(arr: list):\n",
    "      # Create a variable for first number\n",
    "    first_number = arr[0]\n",
    "      # Create a second variable for the last number\n",
    "    last_number = arr[-1]\n",
    "      # assign last number to index 1\n",
    "    arr[0] = last_number\n",
    "      # assign first number to index -1\n",
    "    arr[-1] = first_number\n",
    "    return arr\n",
    "\n",
    "list1 = [2, 4, 67, 7]\n",
    "print(swap_values(list1))"
   ]
  },
  {
   "cell_type": "markdown",
   "id": "22118844",
   "metadata": {},
   "source": [
    "### Day 12: Count the Dots (26/01/2023)\n",
    "\n",
    "Write a function called count_dots. This function takes a\n",
    "string separated by dots as a parameter and counts how many\n",
    "dots are in the string. For example, ‘h.e.l.p.’ should return 4\n",
    "dots, and ‘he.lp.’ should return 2 dots.\n"
   ]
  },
  {
   "cell_type": "code",
   "execution_count": 8,
   "id": "ef860e2c",
   "metadata": {},
   "outputs": [
    {
     "name": "stdout",
     "output_type": "stream",
     "text": [
      "There are 4 dots in the string\n"
     ]
    },
    {
     "data": {
      "text/plain": [
       "'There are 2 dots in the string'"
      ]
     },
     "execution_count": 8,
     "metadata": {},
     "output_type": "execute_result"
    }
   ],
   "source": [
    "def count_dots(dotstring):\n",
    "    count_dot = dotstring.count('.')\n",
    "    return f\"There are {count_dot} dots in the string\"\n",
    "\n",
    "print(count_dots('h.e.l.p.'))\n",
    "count_dots('he.lp.')"
   ]
  },
  {
   "cell_type": "code",
   "execution_count": 5,
   "id": "f31ea41f",
   "metadata": {},
   "outputs": [
    {
     "name": "stdout",
     "output_type": "stream",
     "text": [
      "['.']\n",
      "['.', '.']\n",
      "['.', '.', '.']\n",
      "['.', '.', '.', '.']\n",
      "There are 4 dots in the string\n",
      "\n",
      "['.']\n",
      "['.', '.']\n"
     ]
    },
    {
     "data": {
      "text/plain": [
       "'There are 2 dots in the string'"
      ]
     },
     "execution_count": 5,
     "metadata": {},
     "output_type": "execute_result"
    }
   ],
   "source": [
    "def count_dots(dotstring):\n",
    "    dot = []\n",
    "    for char in dotstring:\n",
    "        if char == '.':\n",
    "            dot.append(char)\n",
    "            print(dot)\n",
    "    return f\"There are {len(dot)} dots in the string\"\n",
    "\n",
    "print(count_dots('h.e.l.p.'))\n",
    "print(\"\")\n",
    "count_dots('he.lp.')"
   ]
  },
  {
   "cell_type": "code",
   "execution_count": 13,
   "id": "94d22c1d",
   "metadata": {},
   "outputs": [
    {
     "name": "stdout",
     "output_type": "stream",
     "text": [
      "['h', 'e', 'l', 'p', '']\n",
      "There are 4 dots in the string\n",
      "['he', 'lp', '']\n"
     ]
    },
    {
     "data": {
      "text/plain": [
       "'There are 2 dots in the string'"
      ]
     },
     "execution_count": 13,
     "metadata": {},
     "output_type": "execute_result"
    }
   ],
   "source": [
    "def count_dots(dotstring):\n",
    "    charList = dotstring.split('.')      #This will give us thr list of char without the dots\n",
    "    print(charList)\n",
    "    dots = len(charList) - 1\n",
    "    return f\"There are {dots} dots in the string\"\n",
    "\n",
    "print(count_dots('h.e.l.p.'))\n",
    "count_dots('he.lp.')"
   ]
  },
  {
   "cell_type": "markdown",
   "id": "61294265",
   "metadata": {},
   "source": [
    "###### Textbook Solution"
   ]
  },
  {
   "cell_type": "code",
   "execution_count": 11,
   "id": "821ae159",
   "metadata": {},
   "outputs": [
    {
     "name": "stdout",
     "output_type": "stream",
     "text": [
      "The string has 4 dots\n"
     ]
    }
   ],
   "source": [
    "def count_dots(word):\n",
    "    m = word.split(\".\")\n",
    "    return f'The string has {len(m)-1} dots'\n",
    "\n",
    "print(count_dots(\"h.e.l.p.\"))"
   ]
  },
  {
   "cell_type": "markdown",
   "id": "d4409395",
   "metadata": {},
   "source": [
    "**Extra Challenge: Your Age in Minutes**\n",
    "\n",
    "Write a function called age_in_minutes that tells a user how\n",
    "old they are in minutes. Your code should ask the user to\n",
    "enter their year of birth, and it should return their age in\n",
    "minutes (by subtracting their year of birth to the current year).\n",
    "Here are things to look out for:\n",
    "\n",
    "a. The user can only input a 4-digit year of birth. For\n",
    "example, 1930 is a valid year. However, entering any\n",
    "number longer or less than 4 digits long should render\n",
    "input invalid. Notify the user to input a four digits\n",
    "number.\n",
    "\n",
    "b. If a user enters a year before 1900, your code should\n",
    "tell the user that input is invalid. If the user enters the\n",
    "year after the current year, the code should tell the user,\n",
    "to input a valid year.\n",
    "The code should run until the user inputs a valid year.\n",
    "Your function should return the user's age in minutes. For\n",
    "example, if someone enters 1930, as their year of birth your\n",
    "function should return:\n",
    "\n",
    "You are 48,355,200 minutes old."
   ]
  },
  {
   "cell_type": "markdown",
   "id": "be63c106",
   "metadata": {},
   "source": [
    "###### Textbook Solution"
   ]
  },
  {
   "cell_type": "code",
   "execution_count": 6,
   "id": "713721bb",
   "metadata": {
    "scrolled": true
   },
   "outputs": [
    {
     "name": "stdout",
     "output_type": "stream",
     "text": [
      "Enter your year of birth: 2023\n",
      "Please enter a valid year\n",
      "Enter your year of birth: 234\n",
      "Please enter a four digits year\n",
      "Enter your year of birth: 1998\n",
      "You are 13,140,000 minutes old.\n"
     ]
    }
   ],
   "source": [
    "from datetime import datetime\n",
    "\n",
    "def your_age():\n",
    "    while True:\n",
    "        birth_year = input('Enter your year of birth: ')\n",
    "        if len(birth_year) != 4:\n",
    "            print('Please enter a four digits year')\n",
    "        elif int(birth_year) < 1900 or int(birth_year) > 2022:\n",
    "            print('Please enter a valid year')\n",
    "        else:\n",
    "               # This returns the current year\n",
    "            now1 = int(datetime.now().strftime(\"%Y\"))\n",
    "            age = (now1 - int(birth_year)) * 525600\n",
    "            return f'You are {age:,} minutes old.'\n",
    "\n",
    "\n",
    "print(your_age())"
   ]
  },
  {
   "cell_type": "markdown",
   "id": "77689fa6",
   "metadata": {},
   "source": [
    "### Day 13: Pay Your Tax (27/01/2023)\n",
    "\n",
    "Write a function called your_vat. The function takes no\n",
    "parameter. The function asks the user to input the price of an\n",
    "item and VAT (vat should be a percentage). The function should\n",
    "return the price of the item plus VAT. If the price is 220 and,\n",
    "VAT is 15% your code should return a vat inclusive price of 253.\n",
    "Make sure that your code can handle ValueError. Ensure the\n",
    "code runs until valid numbers are entered. \n",
    "\n",
    "(hint: Your code\n",
    "should include a while loop).\n"
   ]
  },
  {
   "cell_type": "code",
   "execution_count": 8,
   "id": "031276c6",
   "metadata": {},
   "outputs": [
    {
     "name": "stdout",
     "output_type": "stream",
     "text": [
      "Enter the price of the item: $220\n",
      "Enter the vat on the item here: 15\n"
     ]
    },
    {
     "data": {
      "text/plain": [
       "253.0"
      ]
     },
     "execution_count": 8,
     "metadata": {},
     "output_type": "execute_result"
    }
   ],
   "source": [
    "#Without using 'while loop', this cannot handle error\n",
    "\n",
    "def your_vat():\n",
    "    price = int(input(\"Enter the price of the item: $\"))\n",
    "    vat = int(input(\"Enter the vat on the item here: \"))\n",
    "    vat_inclusive_price = price + ((price * vat)/100)\n",
    "    return vat_inclusive_price\n",
    "\n",
    "your_vat()"
   ]
  },
  {
   "cell_type": "code",
   "execution_count": 9,
   "id": "78b60b49",
   "metadata": {},
   "outputs": [
    {
     "name": "stdout",
     "output_type": "stream",
     "text": [
      "Enter the price of item: 220\n",
      "Enter the vat on the item: 15\n"
     ]
    },
    {
     "data": {
      "text/plain": [
       "'The total price afer VAT inclusin is 253.0'"
      ]
     },
     "execution_count": 9,
     "metadata": {},
     "output_type": "execute_result"
    }
   ],
   "source": [
    "#Using 'while loop' to handle errror\n",
    "\n",
    "def your_vat():\n",
    "    while True:\n",
    "        try:\n",
    "            price = int(input(\"Enter the price of item: \"))\n",
    "            vat = int(input('Enter the vat on the item: '))\n",
    "        except ValueError:\n",
    "            print(\"Enter a valid number(ie integer)\")\n",
    "        else:\n",
    "            vat_inclusive_price = price + ((price * vat) / 100 )\n",
    "            \n",
    "            return f\"The total price afer VAT inclusin is {vat_inclusive_price}\"\n",
    "\n",
    "your_vat()"
   ]
  },
  {
   "cell_type": "code",
   "execution_count": 13,
   "id": "f6343966",
   "metadata": {},
   "outputs": [
    {
     "name": "stdout",
     "output_type": "stream",
     "text": [
      "Enter the price of item: 220\n",
      "Enter the vat on the item: q\n",
      "Enter a valid number\n",
      "Enter the price of item: 23.6\n",
      "Enter a valid number\n",
      "Enter the price of item: 220\n",
      "Enter the vat on the item: 0.15\n"
     ]
    },
    {
     "data": {
      "text/plain": [
       "'The total price afer VAT inclusin is 253.0'"
      ]
     },
     "execution_count": 13,
     "metadata": {},
     "output_type": "execute_result"
    }
   ],
   "source": [
    "#Using 'while loop' to handle errror\n",
    "\n",
    "def your_vat():\n",
    "    while True:\n",
    "        try:\n",
    "            price = int(input(\"Enter the price of item: \"))\n",
    "            vat = float(input('Enter the vat on the item: '))\n",
    "        except ValueError:\n",
    "            print(\"Enter a valid number\")\n",
    "        else:\n",
    "            vat_inclusive_price = price + (price * vat)\n",
    "            \n",
    "            return f\"The total price afer VAT inclusin is {vat_inclusive_price}\"\n",
    "\n",
    "your_vat()"
   ]
  },
  {
   "cell_type": "markdown",
   "id": "f1684a50",
   "metadata": {},
   "source": [
    "###### Textbook Solution"
   ]
  },
  {
   "cell_type": "code",
   "execution_count": 7,
   "id": "f2fede7b",
   "metadata": {},
   "outputs": [
    {
     "name": "stdout",
     "output_type": "stream",
     "text": [
      "Enter the price of item: 220\n",
      "Enter vat: 15\n",
      "('The price VAT inclusive is', 253.0)\n"
     ]
    }
   ],
   "source": [
    "def your_vat():\n",
    "    while True:\n",
    "        try:\n",
    "            price = int(input(\"Enter the price of item: \"))\n",
    "            vat = int(input('Enter vat: '))\n",
    "        except ValueError:\n",
    "            print(\"Enter a valid number\")\n",
    "        else:\n",
    "            total_price = price + (price * vat / 100 + 1) - 1\n",
    "            return 'The price VAT inclusive is', total_price\n",
    "\n",
    "print(your_vat())"
   ]
  },
  {
   "attachments": {
    "Screenshot%202023-01-27%20212731.png": {
     "image/png": "[encoded data removed]"
    }
   },
   "cell_type": "markdown",
   "id": "78bf45c1",
   "metadata": {},
   "source": [
    "**Extra Challenge: Pyramid of Snakes**\n",
    "\n",
    "Write a function called Python_snakes that takes a number\n",
    "as an argument and creates the following shape, using the\n",
    "number’s range: (hint: Use the loops and emoji library. If you\n",
    "pass 7 as argument, your code should print the following:\n",
    "\n",
    "![Screenshot%202023-01-27%20212731.png](attachment:Screenshot%202023-01-27%20212731.png)"
   ]
  },
  {
   "cell_type": "code",
   "execution_count": null,
   "id": "ce3ddf7b",
   "metadata": {},
   "outputs": [],
   "source": [
    "pip install emoji"
   ]
  },
  {
   "cell_type": "code",
   "execution_count": 19,
   "id": "cca52c66",
   "metadata": {},
   "outputs": [
    {
     "name": "stdout",
     "output_type": "stream",
     "text": [
      "       \n",
      "\n",
      "      🐍 \n",
      "\n",
      "     🐍 🐍 \n",
      "\n",
      "    🐍 🐍 🐍 \n",
      "\n",
      "   🐍 🐍 🐍 🐍 \n",
      "\n",
      "  🐍 🐍 🐍 🐍 🐍 \n",
      "\n",
      " 🐍 🐍 🐍 🐍 🐍 🐍 \n",
      "\n"
     ]
    }
   ],
   "source": [
    "from emoji import emojize\n",
    "\n",
    "def Python_snakes(num):\n",
    "    for i in range(num):\n",
    "        for j in range(num, i, -1):\n",
    "            print(end=\" \")\n",
    "        for k in range(0, i):\n",
    "              # printing the snake emoji\n",
    "            print(emojize(':snake:'), end=\" \")\n",
    "        print(\"\\n\")\n",
    "\n",
    "\n",
    "Python_snakes(7)"
   ]
  },
  {
   "cell_type": "markdown",
   "id": "63030cd2",
   "metadata": {},
   "source": [
    "###### Textbook Solution"
   ]
  },
  {
   "cell_type": "code",
   "execution_count": 15,
   "id": "2e9b65f7",
   "metadata": {},
   "outputs": [
    {
     "name": "stdout",
     "output_type": "stream",
     "text": [
      "       \n",
      "\n",
      "      🐍 \n",
      "\n",
      "     🐍 🐍 \n",
      "\n",
      "    🐍 🐍 🐍 \n",
      "\n",
      "   🐍 🐍 🐍 🐍 \n",
      "\n",
      "  🐍 🐍 🐍 🐍 🐍 \n",
      "\n",
      " 🐍 🐍 🐍 🐍 🐍 🐍 \n",
      "\n"
     ]
    }
   ],
   "source": [
    "from emoji import emojize\n",
    "\n",
    "def Python_snakes(n: int):\n",
    "          # the loop to determine the number of rows of the pyramid\n",
    "    for i in range(0, n):\n",
    "          # The loop that determines number of columns\n",
    "        for j in range(n, i, -1):\n",
    "               # print space between the snake signs\n",
    "            print(end=\" \")\n",
    "        for k in range(0, i):\n",
    "              # printing the snake emoji\n",
    "            print(emojize(':snake:'), end=\" \")\n",
    "        print(\"\\n\")\n",
    "\n",
    "#money_pyramid(7)\n",
    "Python_snakes(7)"
   ]
  },
  {
   "cell_type": "markdown",
   "id": "6c6916a2",
   "metadata": {},
   "source": [
    "### Day 14: Flatten the List (28/01/2023)\n",
    "\n",
    "Write a function called flat_list that takes one argument, a\n",
    "nested list. The function converts the nested list into a onedimension\n",
    "list.\n",
    "\n",
    "For example [[2,4,5,6]] should return\n",
    "[2,4,5,6].\n"
   ]
  },
  {
   "cell_type": "code",
   "execution_count": 26,
   "id": "37dd875f",
   "metadata": {},
   "outputs": [
    {
     "data": {
      "text/plain": [
       "[2, 4, 5, 6]"
      ]
     },
     "execution_count": 26,
     "metadata": {},
     "output_type": "execute_result"
    }
   ],
   "source": [
    "def flat_list(nlist):\n",
    "    for items in nlist:\n",
    "        return items\n",
    "      \n",
    "nlist = [[2, 4, 5, 6]] \n",
    "flat_list(nlist)"
   ]
  },
  {
   "cell_type": "code",
   "execution_count": 3,
   "id": "83020e04",
   "metadata": {},
   "outputs": [
    {
     "data": {
      "text/plain": [
       "[2, 4, 5, 6]"
      ]
     },
     "execution_count": 3,
     "metadata": {},
     "output_type": "execute_result"
    }
   ],
   "source": [
    "def flat_list(nestedList):\n",
    "    one_dimList = []\n",
    "    for sublist in nestedList:\n",
    "        for item in sublist:\n",
    "            one_dimList.append(item)\n",
    "    return one_dimList\n",
    "            \n",
    "nestedList = [[2,4,5,6]]\n",
    "flat_list(nestedList)"
   ]
  },
  {
   "cell_type": "code",
   "execution_count": 4,
   "id": "6ffa93aa",
   "metadata": {},
   "outputs": [
    {
     "data": {
      "text/plain": [
       "[2, 4, 5, 6]"
      ]
     },
     "execution_count": 4,
     "metadata": {},
     "output_type": "execute_result"
    }
   ],
   "source": [
    "def flat_list(nestedList):\n",
    "    one_dimList = [item for sublist in nestedList for item in sublist]\n",
    "    return one_dimList\n",
    "\n",
    "nestedList = [[2,4,5,6]]\n",
    "flat_list(nestedList)"
   ]
  },
  {
   "cell_type": "code",
   "execution_count": 9,
   "id": "44ce6a03",
   "metadata": {
    "scrolled": true
   },
   "outputs": [
    {
     "name": "stdout",
     "output_type": "stream",
     "text": [
      "[2, 4, 5, 6]\n"
     ]
    },
    {
     "data": {
      "text/plain": [
       "[2, 4, 5, 6]"
      ]
     },
     "execution_count": 9,
     "metadata": {},
     "output_type": "execute_result"
    }
   ],
   "source": [
    "def flat_list(nestedList):\n",
    "    one_dimList = []\n",
    "    for sublist in nestedList:\n",
    "        print(sublist)\n",
    "        one_dimList.extend(sublist)\n",
    "    return one_dimList\n",
    "\n",
    "nestedList = [[2,4,5,6]]\n",
    "flat_list(nestedList)"
   ]
  },
  {
   "cell_type": "code",
   "execution_count": 4,
   "id": "dcf61627",
   "metadata": {},
   "outputs": [
    {
     "data": {
      "text/plain": [
       "[2, 4, 5, 6]"
      ]
     },
     "execution_count": 4,
     "metadata": {},
     "output_type": "execute_result"
    }
   ],
   "source": [
    "import itertools\n",
    "\n",
    "def flat_list(nestedList):\n",
    "    return list(itertools.chain(*nestedList))\n",
    "\n",
    "nestedList = [[2,4,5,6]]\n",
    "flat_list(nestedList)"
   ]
  },
  {
   "cell_type": "markdown",
   "id": "1a9300ad",
   "metadata": {},
   "source": [
    "###### Textbook Solution"
   ]
  },
  {
   "cell_type": "code",
   "execution_count": 14,
   "id": "5beb5de9",
   "metadata": {},
   "outputs": [
    {
     "name": "stdout",
     "output_type": "stream",
     "text": [
      "[2, 4, 5, 6]\n"
     ]
    }
   ],
   "source": [
    "def convert_list(lst1: list):\n",
    "    list1 = []\n",
    "    for items in lst1:\n",
    "        for i in items:\n",
    "            list1.append(i)\n",
    "    return list1\n",
    "\n",
    "print(convert_list([[2, 4, 5, 6]]))"
   ]
  },
  {
   "cell_type": "markdown",
   "id": "b9aec3a5",
   "metadata": {},
   "source": [
    "**Extra Challenge: Teacher’s Salary**\n",
    "\n",
    "A school has asked you to write a program that will calculate\n",
    "teachers' salaries. The program should ask the user to enter the\n",
    "teacher’s name, the number of periods taught in a month,\n",
    "and the rate per period. The monthly salary is calculated by\n",
    "multiplying the number of periods by the monthly rate.\n",
    "The current monthly rate per period is $20. \n",
    "\n",
    "If a teacher has\n",
    "more than 100 periods in a month, everything above 100 is\n",
    "overtime. Overtime is $25 per period.\n",
    "\n",
    "For example, if a teacher\n",
    "has taught 105 periods, their monthly gross salary should be\n",
    "2,125. Write a function called your_salary that calculates a\n",
    "teacher’s gross salary. The function should return the\n",
    "teacher’s name, periods taught, and gross salary. Here is\n",
    "how you should format your output:\n",
    "Teacher: John Kelly,\n",
    "Periods: 105\n",
    "Gross salary:2,125"
   ]
  },
  {
   "cell_type": "code",
   "execution_count": 20,
   "id": "f2940d25",
   "metadata": {},
   "outputs": [
    {
     "name": "stdout",
     "output_type": "stream",
     "text": [
      "Enter the name of the teacher here: Joshua\n",
      "Enter the number of periods taught in a month here: 105\n",
      "Enter the monthly rate per period here: $20\n",
      "Enter the overtime rate here: $25\n"
     ]
    },
    {
     "data": {
      "text/plain": [
       "'Teacher: Joshua, Periods: 105, Gross salary: $2125'"
      ]
     },
     "execution_count": 20,
     "metadata": {},
     "output_type": "execute_result"
    }
   ],
   "source": [
    "def your_salary():\n",
    "    teacher_name = input(\"Enter the name of the teacher here: \")\n",
    "    period = int(input(\"Enter the number of periods taught in a month here: \"))\n",
    "    rate = int(input(\"Enter the monthly rate per period here: $\"))\n",
    "    overtimerate = int(input(\"Enter the overtime rate here: $\"))\n",
    "    \n",
    "    if period <= 100:\n",
    "        teacher_salary = rate * period\n",
    "        return f\"Teacher:{teacher_name}, Periods:{period}, Gross salary:{teacher_salary}\"\n",
    "    else:\n",
    "        teacher_salary = (100 * rate) + ((period - 100) * overtimerate)\n",
    "        return f\"Teacher: {teacher_name}, Periods: {period}, Gross salary: ${teacher_salary}\"\n",
    "    \n",
    "your_salary()"
   ]
  },
  {
   "cell_type": "markdown",
   "id": "68e2921e",
   "metadata": {},
   "source": [
    "###### Textbook Solution"
   ]
  },
  {
   "cell_type": "code",
   "execution_count": 22,
   "id": "40fc1e6a",
   "metadata": {},
   "outputs": [
    {
     "name": "stdout",
     "output_type": "stream",
     "text": [
      "Enter the name of the teacher: Joshua\n",
      "Enter rate per period: 20\n",
      "Enter the number of periods taught: 105\n",
      "Teacher: Joshua, \n",
      "Periods: 105 \n",
      "Gross salary:2,125\n"
     ]
    }
   ],
   "source": [
    "def your_salary():\n",
    "    name = input('Enter the name of the teacher: ')\n",
    "    rate = int(input('Enter rate per period: '))\n",
    "    period = int(input('Enter the number of periods taught: '))\n",
    "    if period <= 100:\n",
    "        gross_salary = rate * period\n",
    "    else:\n",
    "        gross_salary = (rate * 100)\\\n",
    "                 + ((period-100) * (rate + 5))\n",
    "    return f'Teacher: {name}, \\nPeriods: ' \\\n",
    "             f'{period} \\nGross salary:{gross_salary:,}'\n",
    "\n",
    "print(your_salary())"
   ]
  },
  {
   "cell_type": "markdown",
   "id": "b64b40af",
   "metadata": {},
   "source": [
    "### Day 15: Same in Reverse(29/01/2023)\n",
    "\n",
    "Write a function called same_in_reverse that takes a string\n",
    "and checks if the string reads the same in reverse. If it is the\n",
    "same, the code should return True if not, it should return False.\n",
    "For example, ‘dad’ should return True, because it reads the\n",
    "same in reverse.\n"
   ]
  },
  {
   "cell_type": "code",
   "execution_count": 36,
   "id": "e616696a",
   "metadata": {},
   "outputs": [
    {
     "name": "stdout",
     "output_type": "stream",
     "text": [
      "True\n"
     ]
    },
    {
     "data": {
      "text/plain": [
       "True"
      ]
     },
     "execution_count": 36,
     "metadata": {},
     "output_type": "execute_result"
    }
   ],
   "source": [
    "def same_in_reverse(string):\n",
    "    if string == string[::-1]:\n",
    "        return True\n",
    "    else:\n",
    "        return False\n",
    "\n",
    "print(same_in_reverse('madam'))\n",
    "same_in_reverse('dad')"
   ]
  },
  {
   "cell_type": "markdown",
   "id": "8a477dee",
   "metadata": {},
   "source": [
    "###### Textbook Solution"
   ]
  },
  {
   "cell_type": "code",
   "execution_count": 37,
   "id": "c5f2126c",
   "metadata": {},
   "outputs": [
    {
     "name": "stdout",
     "output_type": "stream",
     "text": [
      "False\n"
     ]
    }
   ],
   "source": [
    "def same_in_reverse(a):\n",
    "    if a == a[::-1]:\n",
    "        return True\n",
    "    else:\n",
    "        return False\n",
    "print(same_in_reverse('mad'))"
   ]
  },
  {
   "cell_type": "markdown",
   "id": "43e8f9c2",
   "metadata": {},
   "source": [
    "**Extra Challenge: What’s My Age?**\n",
    "    \n",
    "Write a function called your_age. This function asks a student\n",
    "to enter their name and then it returns their age. For example, if\n",
    "a user enters Peter as their name, your function should return,\n",
    "‘Hi, Peter, you are 27 years old. This function reads data\n",
    "from the database (dictionary below). If the name is not in the\n",
    "dictionary, your code should tell the user that their name is not\n",
    "in the dictionary, and ask them for their age. Your code should\n",
    "then add the name and age to the dictionary of names_age\n",
    "below. Once added your code should return to the user ‘Hi,\n",
    "(added name), you are (added age) years old’. Remember\n",
    "to convert the input from user to lowercase letters\n",
    "\n",
    "names_age = {\"jane\": 23, \"kerry\": 45, \"tim\": 34, “peter\": 27}"
   ]
  },
  {
   "cell_type": "code",
   "execution_count": 51,
   "id": "7df770bf",
   "metadata": {},
   "outputs": [
    {
     "name": "stdout",
     "output_type": "stream",
     "text": [
      "Enter your name: Daniel\n",
      "Your name is not in the dict database, Enter your age: 25\n"
     ]
    },
    {
     "data": {
      "text/plain": [
       "'Hi, daniel! You are 25 years old'"
      ]
     },
     "execution_count": 51,
     "metadata": {},
     "output_type": "execute_result"
    }
   ],
   "source": [
    "names_age ={\"jane\": 23, \"kerry\": 45, \"tim\": 34, \"peter\": 27}\n",
    "\n",
    "def your_age():\n",
    "    name = input(\"Enter your name: \")\n",
    "    name = name.lower()\n",
    "    \n",
    "    for dbname in names_age.keys():\n",
    "        if dbname == name:\n",
    "            return f\"Hi, {name}! You are {names_age.get(dbname)} years old\"\n",
    "        else:\n",
    "            age = int(input(\"Your name is not in the dict database, Enter your age: \" ))\n",
    "            names_age.update({name: age})\n",
    "            return f'Hi, {name}! You are {names_age.get(name)} years old'\n",
    "        \n",
    "your_age()  "
   ]
  },
  {
   "cell_type": "code",
   "execution_count": 53,
   "id": "f0836e44",
   "metadata": {},
   "outputs": [
    {
     "name": "stdout",
     "output_type": "stream",
     "text": [
      "Enter your name: dan\n",
      "Your name is not in the dict database, Enter your age: 25\n"
     ]
    },
    {
     "data": {
      "text/plain": [
       "'Hi, dan! You are 25 years old'"
      ]
     },
     "execution_count": 53,
     "metadata": {},
     "output_type": "execute_result"
    }
   ],
   "source": [
    "names_age ={\"jane\": 23, \"kerry\": 45, \"tim\": 34, \"peter\": 27}\n",
    "\n",
    "def your_age():\n",
    "    name = input(\"Enter your name: \")\n",
    "    name = name.lower()\n",
    "    \n",
    "    for dbname in names_age.keys():\n",
    "        if dbname == name:\n",
    "            return f\"Hi, {name}! You are {names_age[name]} years old\"\n",
    "    else:\n",
    "        while name != dbname:\n",
    "            age = int(input(\"Your name is not in the dict database, Enter your age: \" ))\n",
    "            names_age.update({name: age})\n",
    "            return f'Hi, {name}! You are {names_age[name]} years old'\n",
    "        \n",
    "your_age()  "
   ]
  },
  {
   "cell_type": "code",
   "execution_count": 54,
   "id": "23ecbdd8",
   "metadata": {},
   "outputs": [
    {
     "name": "stdout",
     "output_type": "stream",
     "text": [
      "Enter your name: jane\n"
     ]
    },
    {
     "data": {
      "text/plain": [
       "'Hi, jane! You are 23 years old'"
      ]
     },
     "execution_count": 54,
     "metadata": {},
     "output_type": "execute_result"
    }
   ],
   "source": [
    "names_age ={\"jane\": 23, \"kerry\": 45, \"tim\": 34, \"peter\": 27}\n",
    "\n",
    "def your_age():\n",
    "    name = input(\"Enter your name: \")\n",
    "    name = name.lower()\n",
    "    \n",
    "    for dbname in names_age.keys():\n",
    "        if dbname == name:\n",
    "            return f\"Hi, {name}! You are {names_age[dbname]} years old\"\n",
    "    else:\n",
    "        while name != dbname:\n",
    "            age = int(input(\"Your name is not in the dict database, Enter your age: \" ))\n",
    "            names_age.update({name: age})\n",
    "            return f'Hi, {name}! You are {names_age.get(name)} years old'\n",
    "        \n",
    "your_age()  "
   ]
  },
  {
   "cell_type": "markdown",
   "id": "48a53cd1",
   "metadata": {},
   "source": [
    "###### Textbook Solution"
   ]
  },
  {
   "cell_type": "code",
   "execution_count": null,
   "id": "cc979eee",
   "metadata": {},
   "outputs": [],
   "source": [
    "names_age ={\"jane\": 23, \"kerry\": 45, \"tim\": 34, \"peter\": 27}\n",
    "\n",
    "def your_age():\n",
    "           # Convert name to lowercase letters\n",
    "    name = input(\"Please enter your name: \").lower()\n",
    "         # Use for loop to iterate over the dictionary\n",
    "    for key in names_age.keys():\n",
    "        if key == name:\n",
    "               # use the get method to access a specific value.\n",
    "            return f'Hi, {name}! You are {names_age.get(key)} years old'\n",
    "    else:\n",
    "          # if name not in the dictionary\n",
    "        while name not in names_age.keys():\n",
    "            age = input(\"Your name is not in the dictionary, \" \n",
    "                        \"please enter your age? \").lower()\n",
    "                   # Update the dictionary with name and age.\n",
    "            names_age.update({name: age})\n",
    "            return f'Hi, {name}! You are {names_age.get(name)} years old'\n",
    "\n",
    "print(your_age())"
   ]
  },
  {
   "cell_type": "markdown",
   "id": "325fdbe7",
   "metadata": {},
   "source": [
    "### Day 16: Sum the List (30/01/2023)\n",
    "\n",
    "Write a function called sum_list with one parameter that takes\n",
    "a nested list of integers as an argument and returns the sum of\n",
    "the integers. \n",
    "\n",
    "For example, if you pass [[2, 4, 5, 6], [2, 3, 5, 6]]\n",
    "as an argument your function should return a sum of 33.\n"
   ]
  },
  {
   "cell_type": "code",
   "execution_count": 72,
   "id": "df238c8f",
   "metadata": {},
   "outputs": [
    {
     "data": {
      "text/plain": [
       "33"
      ]
     },
     "execution_count": 72,
     "metadata": {},
     "output_type": "execute_result"
    }
   ],
   "source": [
    "#Dummy Method\n",
    "\n",
    "def sum_list(nestedlist):\n",
    "    lst1 = nestedlist[0]\n",
    "    lst2 = nestedlist[1]\n",
    "    sum1 = sum(lst1)\n",
    "    sum2 = sum(lst2)\n",
    "    total = sum1 + sum2\n",
    "    return total\n",
    "s = [[2, 4, 5, 6], [2, 3, 5, 6]]        \n",
    "sum_list(s)        "
   ]
  },
  {
   "cell_type": "code",
   "execution_count": 68,
   "id": "38f9d084",
   "metadata": {},
   "outputs": [
    {
     "data": {
      "text/plain": [
       "33"
      ]
     },
     "execution_count": 68,
     "metadata": {},
     "output_type": "execute_result"
    }
   ],
   "source": [
    "def sum_list(nestedlist):\n",
    "    sumlist = []\n",
    "    for lst in nestedlist:\n",
    "        for num in lst:\n",
    "            sumlist.append(num)\n",
    "            #print(sumlist)\n",
    "    return sum(sumlist)\n",
    "s = [[2, 4, 5, 6], [2, 3, 5, 6]]        \n",
    "sum_list(s)        "
   ]
  },
  {
   "cell_type": "markdown",
   "id": "8a5de67b",
   "metadata": {},
   "source": [
    "###### Textbook Solution"
   ]
  },
  {
   "cell_type": "code",
   "execution_count": 78,
   "id": "ce4e3745",
   "metadata": {},
   "outputs": [
    {
     "name": "stdout",
     "output_type": "stream",
     "text": [
      "('The sum is ', 33)\n"
     ]
    }
   ],
   "source": [
    "def sum_list(lst1: list):\n",
    "    counta = 0\n",
    "    for items in lst1:\n",
    "        for i in items:\n",
    "            counta += i\n",
    "    return 'The sum is ', counta\n",
    "\n",
    "\n",
    "print(sum_list([[2, 4, 5, 6], [2, 3, 5, 6]]))"
   ]
  },
  {
   "cell_type": "markdown",
   "id": "0baae433",
   "metadata": {},
   "source": [
    "**Extra Challenge: Unpack A Nest**\n",
    "\n",
    "Nested_list = [[12, 34, 56, 67], [34, 68, 78]]\n",
    "Write a code that generates a list of the following numbers from\n",
    "the nested list above – 34, 67, 78. Your output should be another\n",
    "list:\n",
    "[34, 67, 78]. The list output should not have duplicates."
   ]
  },
  {
   "cell_type": "code",
   "execution_count": 85,
   "id": "27003877",
   "metadata": {},
   "outputs": [
    {
     "data": {
      "text/plain": [
       "[34, 67, 78]"
      ]
     },
     "execution_count": 85,
     "metadata": {},
     "output_type": "execute_result"
    }
   ],
   "source": [
    "def unpack_nest(nestedlist):\n",
    "    new_list = []\n",
    "    for lst in nestedlist:\n",
    "        for num in lst:\n",
    "            if num in [34, 67, 78]:\n",
    "                if num not in new_list:\n",
    "                    new_list.append(num)\n",
    "    return new_list\n",
    "\n",
    "nested_list = [[12, 34, 56, 67], [34, 68, 78]]\n",
    "unpack_nest(nested_list)"
   ]
  },
  {
   "cell_type": "markdown",
   "id": "34fc5bc0",
   "metadata": {},
   "source": [
    "###### Textbook Solution"
   ]
  },
  {
   "cell_type": "code",
   "execution_count": 81,
   "id": "1a332d7f",
   "metadata": {},
   "outputs": [
    {
     "name": "stdout",
     "output_type": "stream",
     "text": [
      "[34, 67, 78]\n"
     ]
    }
   ],
   "source": [
    "nested_list = [[12, 34, 56, 67], [34, 68, 78]]\n",
    "\n",
    "new_list = []\n",
    "# A nested for loop to access the inner list\n",
    "for arr in nested_list:\n",
    "    for num in arr:\n",
    "         # Create a list of numbers wanted\n",
    "        if num in [34, 67, 78]:\n",
    "            # Checking if number already exists before appending\n",
    "            if num not in new_list:\n",
    "                new_list.append(num)\n",
    "\n",
    "print(new_list)"
   ]
  },
  {
   "cell_type": "markdown",
   "id": "76c05cad",
   "metadata": {},
   "source": [
    "### Day 17: User Name Generator (31/01/2023)\n",
    "\n",
    "Write a function called user_name, that creates a username\n",
    "for the user. The function should ask a user to input their name.\n",
    "The function should then reverse the name and attach a\n",
    "randomly issued number between 0 – 9 at the end of the name.\n",
    "The function should return the username.\n"
   ]
  },
  {
   "cell_type": "code",
   "execution_count": 114,
   "id": "1b03e8c4",
   "metadata": {},
   "outputs": [
    {
     "name": "stdout",
     "output_type": "stream",
     "text": [
      "Enter your name: Daniel\n"
     ]
    },
    {
     "data": {
      "text/plain": [
       "'Your username is: leinaD6'"
      ]
     },
     "execution_count": 114,
     "metadata": {},
     "output_type": "execute_result"
    }
   ],
   "source": [
    "import random\n",
    "num = random.randint(0,9)\n",
    "\n",
    "def user_name():\n",
    "    name = input(\"Enter your name: \")\n",
    "    reverse_name = name[::-1]\n",
    "    username = reverse_name + str(num)\n",
    "    return f\"Your username is: {username}\"\n",
    "    \n",
    "user_name()"
   ]
  },
  {
   "cell_type": "markdown",
   "id": "47f0d577",
   "metadata": {},
   "source": [
    "###### Textbook Solution"
   ]
  },
  {
   "cell_type": "code",
   "execution_count": null,
   "id": "bdd9bdc4",
   "metadata": {},
   "outputs": [],
   "source": [
    "import random\n",
    "\n",
    "num = random.randint(0,10)\n",
    "def user_name():\n",
    "    name = input('Enter name: ')\n",
    "    name = name[::-1]\n",
    "    username = name + str(num)\n",
    "    return username\n",
    "\n",
    "print(user_name())"
   ]
  },
  {
   "cell_type": "markdown",
   "id": "aca08674",
   "metadata": {},
   "source": [
    "**Extra Challenge: Sort by Length**\n",
    "    \n",
    "names = [ \"Peter\", \"Jon\", \"Andrew\"]\n",
    "Write a function called sort_length that takes a list of strings\n",
    "as an argument, and sorts the strings in ascending order\n",
    "according to their length. \n",
    "\n",
    "For example, the list above should\n",
    "return:\n",
    "['Jon', 'Peter', 'Andrew']\n",
    "Do not use the built-in sort functions"
   ]
  },
  {
   "cell_type": "code",
   "execution_count": 116,
   "id": "a864b066",
   "metadata": {},
   "outputs": [
    {
     "data": {
      "text/plain": [
       "['Jon', 'Peter', 'Andrew']"
      ]
     },
     "execution_count": 116,
     "metadata": {},
     "output_type": "execute_result"
    }
   ],
   "source": [
    "#Using built-in sort functions\n",
    "\n",
    "def sort_length(nlist):\n",
    "    return sorted(nlist, key=len)\n",
    "\n",
    "names = [\"Peter\", \"Jon\", \"Andrew\"]\n",
    "sort_length(names)"
   ]
  },
  {
   "cell_type": "code",
   "execution_count": 118,
   "id": "4133855d",
   "metadata": {},
   "outputs": [
    {
     "data": {
      "text/plain": [
       "['Jon', 'Peter', 'Andrew']"
      ]
     },
     "execution_count": 118,
     "metadata": {},
     "output_type": "execute_result"
    }
   ],
   "source": [
    "#Using built-in sort functions\n",
    "\n",
    "def sort_length(nlist):\n",
    "    nlist.sort(key=len)\n",
    "    return nlist\n",
    "\n",
    "names = [\"Peter\", \"Jon\", \"Andrew\"]\n",
    "sort_length(names)"
   ]
  },
  {
   "cell_type": "code",
   "execution_count": 123,
   "id": "0e330ce7",
   "metadata": {},
   "outputs": [
    {
     "data": {
      "text/plain": [
       "['Jon', 'Peter', 'Andrew']"
      ]
     },
     "execution_count": 123,
     "metadata": {},
     "output_type": "execute_result"
    }
   ],
   "source": [
    "import numpy\n",
    "\n",
    "def sort_length(nlist):\n",
    "    #list for storing the length of each string in the nlist\n",
    "    lenlist = []\n",
    "    for name in nlist:\n",
    "        lenlist.append(len(name))\n",
    "    \n",
    "    #return a list with the index of the sorted items in the nlist\n",
    "    sortedindex = numpy.argsort(lenlist)\n",
    "    \n",
    "    #Creating dummy list where we will place the word according to the sortedindex list\n",
    "    lst2 = ['dummy'] * len(nlist)\n",
    "    \n",
    "    for i in range(len(nlist)):\n",
    "        lst2[i] = nlist[sortedindex[i]]\n",
    "    return lst2\n",
    "\n",
    "names = [\"Peter\", \"Jon\", \"Andrew\"]\n",
    "sort_length(names)"
   ]
  },
  {
   "cell_type": "markdown",
   "id": "6a37c386",
   "metadata": {},
   "source": [
    "###### Textbook Solution"
   ]
  },
  {
   "cell_type": "code",
   "execution_count": 115,
   "id": "af906a0c",
   "metadata": {},
   "outputs": [
    {
     "name": "stdout",
     "output_type": "stream",
     "text": [
      "['Jon', 'Peter', 'Andrew']\n"
     ]
    }
   ],
   "source": [
    "def sort_length(arr: list):\n",
    "    for item in range(len(arr)):\n",
    "        for j in range(len(arr) - 1):\n",
    "               # Check if any of the words is longer than the other\n",
    "            if len(arr[j]) > len(arr[j + 1]):\n",
    "                    # swap the longest for the shortest\n",
    "                arr[j], arr[j + 1] = arr[j + 1], arr[j]\n",
    "    return arr\n",
    "\n",
    "\n",
    "names = [\"Peter\", \"Jon\", \"Andrew\"]\n",
    "print(sort_length(names))"
   ]
  },
  {
   "cell_type": "markdown",
   "id": "f3d3bca1",
   "metadata": {},
   "source": [
    "### Day 18: Any Number of Arguments (01/02/2023)\n",
    "\n",
    "Write a function called any_number that can receive any\n",
    "number of arguments (integers and floats) and return the\n",
    "average of those integers. If you pass 12, 90, 12, 34 as\n",
    "arguments your function should return 37.0 as average. \n",
    "\n",
    "If you\n",
    "pass 12, 90 your function should return 51.0 as average.\n"
   ]
  },
  {
   "cell_type": "code",
   "execution_count": 133,
   "id": "a0752313",
   "metadata": {},
   "outputs": [
    {
     "data": {
      "text/plain": [
       "37.0"
      ]
     },
     "execution_count": 133,
     "metadata": {},
     "output_type": "execute_result"
    }
   ],
   "source": [
    "def any_number(array):\n",
    "    average = sum(array) / len(array)\n",
    "    return average\n",
    "\n",
    "num = (12, 90, 12, 34)\n",
    "any_number(num)"
   ]
  },
  {
   "cell_type": "code",
   "execution_count": 134,
   "id": "b2d6b01b",
   "metadata": {},
   "outputs": [
    {
     "data": {
      "text/plain": [
       "51.0"
      ]
     },
     "execution_count": 134,
     "metadata": {},
     "output_type": "execute_result"
    }
   ],
   "source": [
    "num = [12, 90]\n",
    "any_number(num)"
   ]
  },
  {
   "cell_type": "markdown",
   "id": "aee2377d",
   "metadata": {},
   "source": [
    "###### Textbook Solution"
   ]
  },
  {
   "cell_type": "code",
   "execution_count": 135,
   "id": "5e7255bc",
   "metadata": {},
   "outputs": [
    {
     "name": "stdout",
     "output_type": "stream",
     "text": [
      "The average is 51.0\n"
     ]
    }
   ],
   "source": [
    "def any_num (*args):\n",
    "    ave = sum(args)/len(args)\n",
    "    return f'The average is {ave}'\n",
    "\n",
    "\n",
    "print(any_num(12, 90))"
   ]
  },
  {
   "cell_type": "markdown",
   "id": "34002ae6",
   "metadata": {},
   "source": [
    "In this fuction if we added more argument"
   ]
  },
  {
   "cell_type": "code",
   "execution_count": 136,
   "id": "d38c05ac",
   "metadata": {},
   "outputs": [
    {
     "name": "stdout",
     "output_type": "stream",
     "text": [
      "The average is 37.0\n"
     ]
    }
   ],
   "source": [
    "def any_num (*args):\n",
    "    ave = sum(args)/len(args)\n",
    "    return f'The average is {ave}'\n",
    "\n",
    "\n",
    "print(any_num(12, 90, 12, 34))"
   ]
  },
  {
   "cell_type": "markdown",
   "id": "33128452",
   "metadata": {},
   "source": [
    "**Extra Challenge: Add and Reverse**\n",
    "    \n",
    "Write a function called add_reverse. This function takes two\n",
    "lists as argument and adds each corresponding number, and\n",
    "reverses the outcome. For example, if you pass [10, 12, 34]\n",
    "and [12, 56, 78]. Your code should return [112, 22, 68]. \n",
    "\n",
    "If the\n",
    "two lists are not of equal lengths, the code should return a\n",
    "message that \"the lists are not of equal lengths\".\n"
   ]
  },
  {
   "cell_type": "code",
   "execution_count": 155,
   "id": "fcb455cb",
   "metadata": {},
   "outputs": [
    {
     "data": {
      "text/plain": [
       "[112, 68, 22]"
      ]
     },
     "execution_count": 155,
     "metadata": {},
     "output_type": "execute_result"
    }
   ],
   "source": [
    "def add_reverse(lst1, lst2):\n",
    "    if len(lst1) == len(lst2):\n",
    "        lstsum = list(map(operator.add, lst1, lst2))\n",
    "        lstsum.reverse()\n",
    "        return lstsum\n",
    "    else:\n",
    "        return f'Lists have different lengths'\n",
    "\n",
    "#new_list.reverse()\n",
    "list1 = [10, 12, 34]\n",
    "list2 = [12, 56, 78]\n",
    "add_reverse(list1, list2)"
   ]
  },
  {
   "cell_type": "code",
   "execution_count": 159,
   "id": "d462b9e1",
   "metadata": {},
   "outputs": [
    {
     "data": {
      "text/plain": [
       "[112, 68, 22]"
      ]
     },
     "execution_count": 159,
     "metadata": {},
     "output_type": "execute_result"
    }
   ],
   "source": [
    "def add_reverse(lst1, lst2):\n",
    "    if len(lst1) == len(lst2):\n",
    "        lstsum = [sum(i) for i in zip(r,s)]\n",
    "        lstsum.reverse()\n",
    "        return lstsum\n",
    "    else:\n",
    "        return f'Lists have different lengths'\n",
    "\n",
    "#new_list.reverse()\n",
    "list1 = [10, 12, 34]\n",
    "list2 = [12, 56, 78]\n",
    "add_reverse(list1, list2)"
   ]
  },
  {
   "cell_type": "markdown",
   "id": "209bb93d",
   "metadata": {},
   "source": [
    "###### Textbook Solution"
   ]
  },
  {
   "cell_type": "code",
   "execution_count": 158,
   "id": "56ebe608",
   "metadata": {},
   "outputs": [
    {
     "name": "stdout",
     "output_type": "stream",
     "text": [
      "[112, 22, 68]\n"
     ]
    }
   ],
   "source": [
    "def add_reverse(n:list, k:list):\n",
    "        # Creating an empty list\n",
    "    new_list = []\n",
    "    if len(n) == len(k):\n",
    "        for i in range(0, len(n)):\n",
    "               # adding and appending corresponding numbers\n",
    "            new_list.append(n[i] + k[i])\n",
    "               # Reversing new list\n",
    "            new_list.reverse()\n",
    "        return new_list\n",
    "    else:\n",
    "        return f'Lists have different lengths'\n",
    "\n",
    "    \n",
    "# Lists to add and reverse\n",
    "list1 = [10, 12, 34]\n",
    "list2 = [12, 56, 78]\n",
    "\n",
    "print(add_reverse(list1, list2))"
   ]
  },
  {
   "cell_type": "markdown",
   "id": "25a9e544",
   "metadata": {},
   "source": [
    "### Day 19: Words and Elements (02/02/2023)\n",
    "\n",
    "Write two functions. The first function is called count_words\n",
    "which takes a string of words and counts how many words are in\n",
    "the string.\n",
    "\n",
    "The second function called count_elements takes a string of\n",
    "words and counts how many elements are in the string. Do not\n",
    "count the whitespaces. The first function will return the number\n",
    "of words in a string and the second one will return the number\n",
    "of elements (less whitespace). \n",
    "\n",
    "If you pass ‘I love learning’,\n",
    "the count_words function should return 3 words and\n",
    "count_elements should return 13 elements."
   ]
  },
  {
   "cell_type": "code",
   "execution_count": 164,
   "id": "20a2f19d",
   "metadata": {},
   "outputs": [
    {
     "data": {
      "text/plain": [
       "' There are 3 words in the string'"
      ]
     },
     "execution_count": 164,
     "metadata": {},
     "output_type": "execute_result"
    }
   ],
   "source": [
    "def count_words(string):\n",
    "    words = string.split(\" \")\n",
    "    return f\" There are {len(words)} words in the string\"\n",
    "\n",
    "count_words(\"I love learning\")"
   ]
  },
  {
   "cell_type": "code",
   "execution_count": 170,
   "id": "b4b6f8ec",
   "metadata": {},
   "outputs": [
    {
     "data": {
      "text/plain": [
       "' There are 13 elements in the string'"
      ]
     },
     "execution_count": 170,
     "metadata": {},
     "output_type": "execute_result"
    }
   ],
   "source": [
    "def count_elements(string):\n",
    "    sentence = string.split(\" \")\n",
    "    count = [len(word) for word in sentence] \n",
    "    return f\" There are {sum(count)} elements in the string\"\n",
    "\n",
    "count_elements(\"I love learning\")"
   ]
  },
  {
   "cell_type": "code",
   "execution_count": 167,
   "id": "cdbace08",
   "metadata": {},
   "outputs": [
    {
     "data": {
      "text/plain": [
       "' There are 13 elements in the string'"
      ]
     },
     "execution_count": 167,
     "metadata": {},
     "output_type": "execute_result"
    }
   ],
   "source": [
    "def count_elements(string):\n",
    "    sentence = string.replace(\" \", \"\")\n",
    "    return f\" There are {len(sentence)} elements in the string\"\n",
    "\n",
    "count_elements(\"I love learning\")"
   ]
  },
  {
   "cell_type": "code",
   "execution_count": 169,
   "id": "212d7484",
   "metadata": {},
   "outputs": [
    {
     "data": {
      "text/plain": [
       "' There are 13 elements in the string'"
      ]
     },
     "execution_count": 169,
     "metadata": {},
     "output_type": "execute_result"
    }
   ],
   "source": [
    "def count_elements(string):\n",
    "    countspace = string.count(\" \")\n",
    "    return f\" There are {len(string) - countspace} elements in the string\"\n",
    "\n",
    "count_elements(\"I love learning\")"
   ]
  },
  {
   "cell_type": "markdown",
   "id": "8d4ccb0d",
   "metadata": {},
   "source": [
    "###### Textbook Solution"
   ]
  },
  {
   "cell_type": "code",
   "execution_count": 161,
   "id": "2257cb98",
   "metadata": {},
   "outputs": [
    {
     "name": "stdout",
     "output_type": "stream",
     "text": [
      "['I']\n",
      "['I', 'love']\n",
      "['I', 'love', 'learning']\n",
      "There are 3 words in the sentence\n"
     ]
    }
   ],
   "source": [
    "def count_words(arr: str):\n",
    "    words = []\n",
    "    for word in arr.split():\n",
    "        words.append(word)\n",
    "        print(words)\n",
    "    return f'There are {len(words)} ' \\\n",
    "           f'words in the sentence'\n",
    "\n",
    "print(count_words('I love learning'))"
   ]
  },
  {
   "cell_type": "markdown",
   "id": "9f4990c6",
   "metadata": {},
   "source": [
    "**Second function**\n",
    "\n",
    "Since the **len()** function counts white spaces as elements, we use\n",
    "the **replace()** method to remove white spaces in the string before\n",
    "using the **len()** function."
   ]
  },
  {
   "cell_type": "code",
   "execution_count": 163,
   "id": "e99d21a6",
   "metadata": {},
   "outputs": [
    {
     "name": "stdout",
     "output_type": "stream",
     "text": [
      "The string has 13 elements \n"
     ]
    }
   ],
   "source": [
    "def count_characters(a):\n",
    "    a = a.replace(' ', '')\n",
    "    return f'The string has ' \\\n",
    "            f'{len(a)} elements '\n",
    "\n",
    "\n",
    "print(count_characters('I love learning'))"
   ]
  },
  {
   "cell_type": "markdown",
   "id": "846842ff",
   "metadata": {},
   "source": [
    "### Day 20: Capitalize First Letter (03/02/2023)\n",
    "\n",
    "Write a function called capitalize. This function takes a string\n",
    "as an argument and capitalizes the first letter of each word. For\n",
    "example, ‘i like learning’ becomes ‘I Like Learning’."
   ]
  },
  {
   "cell_type": "code",
   "execution_count": 176,
   "id": "70e8a5f3",
   "metadata": {},
   "outputs": [
    {
     "data": {
      "text/plain": [
       "'I Like Learning'"
      ]
     },
     "execution_count": 176,
     "metadata": {},
     "output_type": "execute_result"
    }
   ],
   "source": [
    "def capitalize(string):\n",
    "    return string.title()\n",
    "\n",
    "capitalize('i like learning')"
   ]
  },
  {
   "cell_type": "code",
   "execution_count": 175,
   "id": "8c1973c7",
   "metadata": {},
   "outputs": [
    {
     "data": {
      "text/plain": [
       "'I Like Learning'"
      ]
     },
     "execution_count": 175,
     "metadata": {},
     "output_type": "execute_result"
    }
   ],
   "source": [
    "def capitalize(string):\n",
    "    lst = [words.capitalize() for words in string.split(\" \")]\n",
    "    return \" \".join(lst)\n",
    "\n",
    "capitalize('i like learning')"
   ]
  },
  {
   "cell_type": "markdown",
   "id": "14b893be",
   "metadata": {},
   "source": [
    "###### Textbook Solution"
   ]
  },
  {
   "cell_type": "code",
   "execution_count": 172,
   "id": "c5e197a8",
   "metadata": {},
   "outputs": [
    {
     "name": "stdout",
     "output_type": "stream",
     "text": [
      "I Like Learning\n"
     ]
    }
   ],
   "source": [
    "def capitalize(a: str):\n",
    "    upper = []\n",
    "    for i, word in enumerate(a.split()):\n",
    "        if word[0].islower():\n",
    "            upper.append(word.capitalize())\n",
    "        else:\n",
    "            upper.append(word)\n",
    "    return ' '.join(upper)\n",
    "print(capitalize('i like learning'))"
   ]
  },
  {
   "attachments": {
    "py.png": {
     "image/png": "[encoded data removed]"
    }
   },
   "cell_type": "markdown",
   "id": "18650f1c",
   "metadata": {},
   "source": [
    "#### Extra Challenge: Reversed List\n",
    "\n",
    "\n",
    "![py.png](attachment:py.png)\n",
    "\n",
    "You are given a string of words. Some of the words in the string\n",
    "contain uppercase letters. Write a code that will return all the\n",
    "words that have an uppercase letter. Your code should return a\n",
    "list of the words. Each word in the list should be reversed. Here\n",
    "is how your output should look:\n",
    "['gninrAel', 'tUb', 'uoY', 'yLppa', 'flesRuoy', 'eVeihca']"
   ]
  },
  {
   "cell_type": "code",
   "execution_count": 183,
   "id": "25502c48",
   "metadata": {},
   "outputs": [
    {
     "data": {
      "text/plain": [
       "['gninrAel', 'tUb', 'uoY', 'yLppa', 'flesRuoy', 'eVeihca']"
      ]
     },
     "execution_count": 183,
     "metadata": {},
     "output_type": "execute_result"
    }
   ],
   "source": [
    "str1 = 'leArning is hard, bUt if You appLy youRself you can achieVe success'\n",
    "import re\n",
    "\n",
    "upperwords = []\n",
    "for word in str1.split(\" \"):\n",
    "    for letter in word:\n",
    "        r = re.findall('([A-Z])', word)\n",
    "        if letter in r:\n",
    "            upperwords.append(\"\".join(word[::-1]))\n",
    "upperwords "
   ]
  },
  {
   "cell_type": "markdown",
   "id": "dd46ddd5",
   "metadata": {},
   "source": [
    "###### Textbook Solution"
   ]
  },
  {
   "cell_type": "code",
   "execution_count": 178,
   "id": "614c820d",
   "metadata": {},
   "outputs": [
    {
     "name": "stdout",
     "output_type": "stream",
     "text": [
      "['gninrAel', 'tUb', 'uoY', 'yLppa', 'flesRuoy', 'eVeihca']\n"
     ]
    }
   ],
   "source": [
    "import string\n",
    "\n",
    "str1 = 'leArning is hard, bUt if You appLy youRself ' \\\n",
    " 'you can achieVe success'\n",
    "\n",
    "upper_names = []\n",
    "for word in str1.split():\n",
    "    for letter in word:\n",
    "          # Using string module to find uppercase letters\n",
    "        if letter in string.ascii_uppercase:\n",
    "            upper_names.append(\"\".join(word[::-1]))\n",
    "\n",
    "print(upper_names)"
   ]
  }
 ],
 "metadata": {
  "kernelspec": {
   "display_name": "Python 3 (ipykernel)",
   "language": "python",
   "name": "python3"
  },
  "language_info": {
   "codemirror_mode": {
    "name": "ipython",
    "version": 3
   },
   "file_extension": ".py",
   "mimetype": "text/x-python",
   "name": "python",
   "nbconvert_exporter": "python",
   "pygments_lexer": "ipython3",
   "version": "3.9.7"
  }
 },
 "nbformat": 4,
 "nbformat_minor": 5
}
